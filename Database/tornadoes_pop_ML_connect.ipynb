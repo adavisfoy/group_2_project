{
  "nbformat": 4,
  "nbformat_minor": 0,
  "metadata": {
    "colab": {
      "name": "tornadoes_pop_ML_connect.ipynb",
      "provenance": [],
      "collapsed_sections": []
    },
    "kernelspec": {
      "name": "python3",
      "display_name": "Python 3"
    },
    "language_info": {
      "name": "python"
    }
  },
  "cells": [
    {
      "cell_type": "code",
      "execution_count": null,
      "metadata": {
        "colab": {
          "base_uri": "https://localhost:8080/"
        },
        "id": "_E_Bu6rhisde",
        "outputId": "a6cfcd92-cf69-4110-be4e-2acf067de71b"
      },
      "outputs": [
        {
          "output_type": "stream",
          "name": "stdout",
          "text": [
            "\r0% [Working]\r            \rHit:1 https://developer.download.nvidia.com/compute/cuda/repos/ubuntu1804/x86_64  InRelease\n",
            "Hit:2 https://cloud.r-project.org/bin/linux/ubuntu bionic-cran40/ InRelease\n",
            "Ign:3 https://developer.download.nvidia.com/compute/machine-learning/repos/ubuntu1804/x86_64  InRelease\n",
            "Hit:4 https://developer.download.nvidia.com/compute/machine-learning/repos/ubuntu1804/x86_64  Release\n",
            "Hit:5 http://security.ubuntu.com/ubuntu bionic-security InRelease\n",
            "Hit:6 http://ppa.launchpad.net/c2d4u.team/c2d4u4.0+/ubuntu bionic InRelease\n",
            "Hit:7 http://archive.ubuntu.com/ubuntu bionic InRelease\n",
            "Hit:9 http://archive.ubuntu.com/ubuntu bionic-updates InRelease\n",
            "Hit:10 http://archive.ubuntu.com/ubuntu bionic-backports InRelease\n",
            "Hit:11 http://ppa.launchpad.net/cran/libgit2/ubuntu bionic InRelease\n",
            "Hit:12 http://ppa.launchpad.net/deadsnakes/ppa/ubuntu bionic InRelease\n",
            "Hit:13 http://ppa.launchpad.net/graphics-drivers/ppa/ubuntu bionic InRelease\n",
            "Reading package lists... Done\n"
          ]
        }
      ],
      "source": [
        "import os\n",
        "# Find the latest version of spark 3.0  from http://www.apache.org/dist/spark/ and enter as the spark version\n",
        "# For example:\n",
        "# spark_version = 'spark-3.0.3'\n",
        "spark_version = 'spark-3.2.1'\n",
        "os.environ['SPARK_VERSION']=spark_version\n",
        "\n",
        "# Install Spark and Java\n",
        "!apt-get update\n",
        "!apt-get install openjdk-11-jdk-headless -qq > /dev/null\n",
        "!wget -q https://dlcdn.apache.org/spark/spark-3.2.1/spark-3.2.1-bin-hadoop3.2.tgz\n",
        "!tar xf $SPARK_VERSION-bin-hadoop3.2.tgz\n",
        "!pip install -q findspark\n",
        "\n",
        "# Set Environment Variables\n",
        "import os\n",
        "os.environ[\"JAVA_HOME\"] = \"/usr/lib/jvm/java-11-openjdk-amd64\"\n",
        "os.environ[\"SPARK_HOME\"] = f\"/content/{spark_version}-bin-hadoop3.2\"\n",
        "\n",
        "# Start a SparkSession\n",
        "import findspark\n",
        "findspark.init()"
      ]
    },
    {
      "cell_type": "code",
      "source": [
        "# Download the Postgres driver that will allow Spark to interact with Postgres.\n",
        "!wget https://jdbc.postgresql.org/download/postgresql-42.2.16.jar"
      ],
      "metadata": {
        "colab": {
          "base_uri": "https://localhost:8080/"
        },
        "id": "kLJXidq0iwXx",
        "outputId": "8dbf4a4d-a23c-4c9a-d9e0-2bcc86cd9d40"
      },
      "execution_count": null,
      "outputs": [
        {
          "output_type": "stream",
          "name": "stdout",
          "text": [
            "--2022-05-10 01:51:55--  https://jdbc.postgresql.org/download/postgresql-42.2.16.jar\n",
            "Resolving jdbc.postgresql.org (jdbc.postgresql.org)... 72.32.157.228, 2001:4800:3e1:1::228\n",
            "Connecting to jdbc.postgresql.org (jdbc.postgresql.org)|72.32.157.228|:443... connected.\n",
            "HTTP request sent, awaiting response... 200 OK\n",
            "Length: 1002883 (979K) [application/java-archive]\n",
            "Saving to: ‘postgresql-42.2.16.jar.2’\n",
            "\n",
            "postgresql-42.2.16. 100%[===================>] 979.38K  1.21MB/s    in 0.8s    \n",
            "\n",
            "2022-05-10 01:51:57 (1.21 MB/s) - ‘postgresql-42.2.16.jar.2’ saved [1002883/1002883]\n",
            "\n"
          ]
        }
      ]
    },
    {
      "cell_type": "code",
      "source": [
        "from pyspark.sql import SparkSession\n",
        "spark = SparkSession.builder.appName(\"group-2-tornadoes\").config(\"spark.driver.extraClassPath\",\"/content/postgresql-42.2.16.jar\").getOrCreate()"
      ],
      "metadata": {
        "id": "xg1FTxYsi1jX"
      },
      "execution_count": null,
      "outputs": []
    },
    {
      "cell_type": "markdown",
      "source": [
        "# **Load S3 Tornado-Population data into Spark DataFrame**"
      ],
      "metadata": {
        "id": "L546hurfj-32"
      }
    },
    {
      "cell_type": "code",
      "source": [
        "# Read in data from S3 buckets\n",
        "from pyspark import SparkFiles\n",
        "url = \"https://group-2-project-tornadoes.s3.amazonaws.com/joined_torn_pop_data_2010-2019_db.csv\"\n",
        "spark.sparkContext.addFile(url)\n",
        "df = spark.read.csv(SparkFiles.get(\"joined_torn_pop_data_2010-2019_db.csv\"), sep=\",\", header=True)\n",
        "df.show()"
      ],
      "metadata": {
        "colab": {
          "base_uri": "https://localhost:8080/"
        },
        "id": "H8NQXb5jkIGZ",
        "outputId": "0d2b879d-7049-4e2f-df20-6ff1ca07b16f"
      },
      "execution_count": null,
      "outputs": [
        {
          "output_type": "stream",
          "name": "stdout",
          "text": [
            "+-------+---------+----+-----+---+-------------------+-------+---------+---------+---------+-------+--------+---+--------+----------+------+---------+------+-----+--------+\n",
            "|torn_id|county_id|year|month|day|          timestamp|st_fips|cnty_fips|start_lat|start_lon|end_lat| end_lon| ef|injuries|fatalities|  loss|crop_loss|length|width|cnty_pop|\n",
            "+-------+---------+----+-----+---+-------------------+-------+---------+---------+---------+-------+--------+---+--------+----------+------+---------+------+-----+--------+\n",
            "|   6974|    29181|2013|   10| 31|2013-10-31 17:11:00|     29|      181|  36.5862| -90.7416|36.5744|-90.6681|  1|       0|         0|100000|     null|  4.16|  150|   13985|\n",
            "|   6975|    29023|2013|   10| 31|2013-10-31 17:30:00|     29|       23|  36.6338|   -90.47|36.6351|-90.4664|  1|       0|         0| 80000|     null|  0.22|   50|   42961|\n",
            "|   6976|    29023|2013|   10| 31|2013-10-31 17:48:00|     29|       23|  36.6954| -90.2691|36.7363|-90.1798|  1|       0|         0|100000|     null|   5.7|   75|   42961|\n",
            "|   6977|    29017|2013|   10| 31|2013-10-31 17:54:00|     29|       17|    37.25| -89.9482|  37.25|-89.9209|  1|       0|         0| 70000|     null|   1.5|  200|   12481|\n",
            "|   6978|    29207|2013|   10| 31|2013-10-31 18:02:00|     29|      207|  36.7312| -90.0338|36.7637|-89.7797|  1|       0|         0| 75000|     null| 14.25|  100|   29795|\n",
            "|   6979|    29031|2013|   10| 31|2013-10-31 18:05:00|     29|       31|  37.2807| -89.7086|37.2756|-89.6379|  1|       0|         0|130000|     null|   3.9|  150|   77458|\n",
            "|   6980|    17003|2013|   10| 31|2013-10-31 18:20:00|     17|        3|  37.2956| -89.5108|37.2953|-89.4883|  0|       0|         0|100000|     null|  1.24|  200|    7238|\n",
            "|   6981|    29207|2013|   10| 31|2013-10-31 18:24:00|     29|      207|  36.7332|   -89.85|36.7466|-89.8194|  2|       0|         0|800000|     null|  1.93|  100|   29795|\n",
            "|   6982|    17003|2013|   10| 31|2013-10-31 18:35:00|     17|        3|  37.3168|   -89.27|37.3301|-89.1528|  1|       0|         0| 20000|     null|  6.51|   50|    7238|\n",
            "|   6983|     5031|2013|   10| 31|2013-10-31 18:37:00|      5|       31|  35.7476| -90.3763|35.7617|-90.3128|  1|       0|         0|500000|     null|  3.69|  300|  101653|\n",
            "|   6984|    29143|2013|   10| 31|2013-10-31 18:40:00|     29|      143|  36.8079| -89.6258|36.8296|-89.5791|  1|       0|         0|175000|     null|  2.99|   50|   18316|\n",
            "|   6985|    17199|2013|   10| 31|2013-10-31 18:51:00|     17|      199|  37.6055|   -88.83|  37.62|-88.6469|  1|       0|         0|110000|     null|   9.9|  175|   67450|\n",
            "|   6986|    17087|2013|   10| 31|2013-10-31 18:56:00|     17|       87|  37.3321| -88.9701|37.3363|-88.9585|  1|       0|         0| 30000|     null|   0.7|   50|   12867|\n",
            "|   6987|    29000|2013|   10| 31|2013-10-31 19:05:00|     29|        0|    36.92|   -89.22|36.9409|-89.0847|  1|       0|         0|105000|     null|  7.62|  200| 6040715|\n",
            "|   6988|    29133|2013|   10| 31|2013-10-31 19:05:00|     29|      133|    36.92|   -89.22|36.9401|-89.1013|  1|       0|         0| 90000|     null|   6.7|  200|   14174|\n",
            "|   6989|    21007|2013|   10| 31|2013-10-31 19:14:00|     21|        7|  36.9395| -89.1012|36.9409|-89.0847|  1|       0|         0| 15000|     null|  0.92|  200|    8252|\n",
            "|   6990|    21039|2013|   10| 31|2013-10-31 19:25:00|     21|       39|  36.9038| -88.8899|36.9725|-88.7683|  1|       0|         0|203000|     null|  8.26|  200|    4959|\n",
            "|   6991|    21007|2013|   10| 31|2013-10-31 19:30:00|     21|        7|  36.9605| -88.9358|36.9627| -88.933|  0|       0|         0| 15000|     null|  0.22|   70|    8252|\n",
            "|   6992|    21145|2013|   10| 31|2013-10-31 19:39:00|     21|      145|  36.9447| -88.7089|36.9594|-88.6747|  1|       0|         0|100000|     null|  2.15|  225|   65337|\n",
            "|   6993|    21145|2013|   10| 31|2013-10-31 19:48:00|     21|      145|  36.9773| -88.5156|36.9785|-88.4978|  0|       0|         0| 15000|     null|  0.98|   40|   65337|\n",
            "+-------+---------+----+-----+---+-------------------+-------+---------+---------+---------+-------+--------+---+--------+----------+------+---------+------+-----+--------+\n",
            "only showing top 20 rows\n",
            "\n"
          ]
        }
      ]
    },
    {
      "cell_type": "code",
      "source": [
        ""
      ],
      "metadata": {
        "id": "qW1nma5okDqi"
      },
      "execution_count": null,
      "outputs": []
    }
  ]
}