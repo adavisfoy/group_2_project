{
 "cells": [
  {
   "cell_type": "code",
   "execution_count": null,
   "id": "f92504cb",
   "metadata": {},
   "outputs": [],
   "source": [
    "# Import dependencies\n",
    "import pandas as pd\n",
    "import numpy as np\n",
    "from path import Path"
   ]
  },
  {
   "cell_type": "code",
   "execution_count": null,
   "id": "9d2bde50",
   "metadata": {},
   "outputs": [],
   "source": [
    "# Read tornadoes csv into DataFrame\n",
    "file_path = Path('Cleaned_Data/1950-2020_torn.csv')\n",
    "tornadoes_df = pd.read_csv(file_path, index_col=0)\n",
    "tornadoes_df"
   ]
  }
 ],
 "metadata": {
  "kernelspec": {
   "display_name": "mlenv",
   "language": "python",
   "name": "mlenv"
  },
  "language_info": {
   "codemirror_mode": {
    "name": "ipython",
    "version": 3
   },
   "file_extension": ".py",
   "mimetype": "text/x-python",
   "name": "python",
   "nbconvert_exporter": "python",
   "pygments_lexer": "ipython3",
   "version": "3.7.11"
  }
 },
 "nbformat": 4,
 "nbformat_minor": 5
}
