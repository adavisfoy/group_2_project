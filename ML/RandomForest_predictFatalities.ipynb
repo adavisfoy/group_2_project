{
 "cells": [
  {
   "cell_type": "code",
   "execution_count": 1,
   "id": "5041fc74",
   "metadata": {},
   "outputs": [],
   "source": [
    "# Import dependencies\n",
    "import pandas as pd\n",
    "import numpy as np\n",
    "from path import Path\n",
    "import matplotlib.pyplot as plt"
   ]
  },
  {
   "cell_type": "code",
   "execution_count": 2,
   "id": "a886bec6",
   "metadata": {},
   "outputs": [
    {
     "data": {
      "text/html": [
       "<div>\n",
       "<style scoped>\n",
       "    .dataframe tbody tr th:only-of-type {\n",
       "        vertical-align: middle;\n",
       "    }\n",
       "\n",
       "    .dataframe tbody tr th {\n",
       "        vertical-align: top;\n",
       "    }\n",
       "\n",
       "    .dataframe thead th {\n",
       "        text-align: right;\n",
       "    }\n",
       "</style>\n",
       "<table border=\"1\" class=\"dataframe\">\n",
       "  <thead>\n",
       "    <tr style=\"text-align: right;\">\n",
       "      <th></th>\n",
       "      <th>surr_key</th>\n",
       "      <th>Year</th>\n",
       "      <th>Month</th>\n",
       "      <th>Day</th>\n",
       "      <th>Timestamp</th>\n",
       "      <th>State</th>\n",
       "      <th>Start_Lat</th>\n",
       "      <th>Start_Lon</th>\n",
       "      <th>End_Lat</th>\n",
       "      <th>End_Lon</th>\n",
       "      <th>EF</th>\n",
       "      <th>Injuries</th>\n",
       "      <th>Fatalities</th>\n",
       "      <th>Loss</th>\n",
       "      <th>Crop_Loss</th>\n",
       "      <th>Length</th>\n",
       "      <th>Width</th>\n",
       "    </tr>\n",
       "  </thead>\n",
       "  <tbody>\n",
       "    <tr>\n",
       "      <th>0</th>\n",
       "      <td>51193</td>\n",
       "      <td>2008</td>\n",
       "      <td>10</td>\n",
       "      <td>11</td>\n",
       "      <td>2008-10-11 18:33:00</td>\n",
       "      <td>NM</td>\n",
       "      <td>35.1500</td>\n",
       "      <td>-105.9400</td>\n",
       "      <td>0.0000</td>\n",
       "      <td>0.0000</td>\n",
       "      <td>0</td>\n",
       "      <td>0</td>\n",
       "      <td>0</td>\n",
       "      <td>12000.0</td>\n",
       "      <td>NaN</td>\n",
       "      <td>0.02</td>\n",
       "      <td>10</td>\n",
       "    </tr>\n",
       "    <tr>\n",
       "      <th>1</th>\n",
       "      <td>51194</td>\n",
       "      <td>2008</td>\n",
       "      <td>10</td>\n",
       "      <td>11</td>\n",
       "      <td>2008-10-11 21:54:00</td>\n",
       "      <td>KS</td>\n",
       "      <td>39.3300</td>\n",
       "      <td>-101.5500</td>\n",
       "      <td>0.0000</td>\n",
       "      <td>0.0000</td>\n",
       "      <td>0</td>\n",
       "      <td>0</td>\n",
       "      <td>0</td>\n",
       "      <td>NaN</td>\n",
       "      <td>NaN</td>\n",
       "      <td>0.25</td>\n",
       "      <td>10</td>\n",
       "    </tr>\n",
       "    <tr>\n",
       "      <th>2</th>\n",
       "      <td>51195</td>\n",
       "      <td>2008</td>\n",
       "      <td>10</td>\n",
       "      <td>24</td>\n",
       "      <td>2008-10-24 16:55:00</td>\n",
       "      <td>GA</td>\n",
       "      <td>31.0200</td>\n",
       "      <td>-81.8100</td>\n",
       "      <td>0.0000</td>\n",
       "      <td>0.0000</td>\n",
       "      <td>0</td>\n",
       "      <td>0</td>\n",
       "      <td>0</td>\n",
       "      <td>1000.0</td>\n",
       "      <td>NaN</td>\n",
       "      <td>0.25</td>\n",
       "      <td>25</td>\n",
       "    </tr>\n",
       "    <tr>\n",
       "      <th>3</th>\n",
       "      <td>51196</td>\n",
       "      <td>2008</td>\n",
       "      <td>10</td>\n",
       "      <td>6</td>\n",
       "      <td>2008-10-06 13:46:00</td>\n",
       "      <td>AR</td>\n",
       "      <td>34.5800</td>\n",
       "      <td>-94.1500</td>\n",
       "      <td>34.6300</td>\n",
       "      <td>-94.1200</td>\n",
       "      <td>1</td>\n",
       "      <td>0</td>\n",
       "      <td>0</td>\n",
       "      <td>75000.0</td>\n",
       "      <td>NaN</td>\n",
       "      <td>3.41</td>\n",
       "      <td>250</td>\n",
       "    </tr>\n",
       "    <tr>\n",
       "      <th>4</th>\n",
       "      <td>51197</td>\n",
       "      <td>2008</td>\n",
       "      <td>10</td>\n",
       "      <td>6</td>\n",
       "      <td>2008-10-06 16:05:00</td>\n",
       "      <td>TX</td>\n",
       "      <td>33.0700</td>\n",
       "      <td>-94.1000</td>\n",
       "      <td>33.0900</td>\n",
       "      <td>-94.0800</td>\n",
       "      <td>0</td>\n",
       "      <td>0</td>\n",
       "      <td>0</td>\n",
       "      <td>75000.0</td>\n",
       "      <td>NaN</td>\n",
       "      <td>1.50</td>\n",
       "      <td>100</td>\n",
       "    </tr>\n",
       "    <tr>\n",
       "      <th>...</th>\n",
       "      <td>...</td>\n",
       "      <td>...</td>\n",
       "      <td>...</td>\n",
       "      <td>...</td>\n",
       "      <td>...</td>\n",
       "      <td>...</td>\n",
       "      <td>...</td>\n",
       "      <td>...</td>\n",
       "      <td>...</td>\n",
       "      <td>...</td>\n",
       "      <td>...</td>\n",
       "      <td>...</td>\n",
       "      <td>...</td>\n",
       "      <td>...</td>\n",
       "      <td>...</td>\n",
       "      <td>...</td>\n",
       "      <td>...</td>\n",
       "    </tr>\n",
       "    <tr>\n",
       "      <th>15886</th>\n",
       "      <td>67499</td>\n",
       "      <td>2020</td>\n",
       "      <td>9</td>\n",
       "      <td>1</td>\n",
       "      <td>2020-09-01 16:24:00</td>\n",
       "      <td>TN</td>\n",
       "      <td>36.3290</td>\n",
       "      <td>-89.4981</td>\n",
       "      <td>36.3517</td>\n",
       "      <td>-89.4729</td>\n",
       "      <td>0</td>\n",
       "      <td>0</td>\n",
       "      <td>0</td>\n",
       "      <td>NaN</td>\n",
       "      <td>2000.0</td>\n",
       "      <td>2.10</td>\n",
       "      <td>50</td>\n",
       "    </tr>\n",
       "    <tr>\n",
       "      <th>15887</th>\n",
       "      <td>67501</td>\n",
       "      <td>2020</td>\n",
       "      <td>9</td>\n",
       "      <td>3</td>\n",
       "      <td>2020-09-03 15:57:00</td>\n",
       "      <td>MD</td>\n",
       "      <td>38.9480</td>\n",
       "      <td>-76.5695</td>\n",
       "      <td>38.9233</td>\n",
       "      <td>-76.4615</td>\n",
       "      <td>0</td>\n",
       "      <td>0</td>\n",
       "      <td>0</td>\n",
       "      <td>1250000.0</td>\n",
       "      <td>NaN</td>\n",
       "      <td>6.05</td>\n",
       "      <td>100</td>\n",
       "    </tr>\n",
       "    <tr>\n",
       "      <th>15888</th>\n",
       "      <td>67502</td>\n",
       "      <td>2020</td>\n",
       "      <td>9</td>\n",
       "      <td>5</td>\n",
       "      <td>2020-09-05 16:17:00</td>\n",
       "      <td>CA</td>\n",
       "      <td>37.3500</td>\n",
       "      <td>-119.3400</td>\n",
       "      <td>37.5218</td>\n",
       "      <td>-119.3056</td>\n",
       "      <td>2</td>\n",
       "      <td>0</td>\n",
       "      <td>0</td>\n",
       "      <td>NaN</td>\n",
       "      <td>NaN</td>\n",
       "      <td>12.02</td>\n",
       "      <td>50</td>\n",
       "    </tr>\n",
       "    <tr>\n",
       "      <th>15889</th>\n",
       "      <td>67503</td>\n",
       "      <td>2020</td>\n",
       "      <td>9</td>\n",
       "      <td>5</td>\n",
       "      <td>2020-09-05 18:29:00</td>\n",
       "      <td>CA</td>\n",
       "      <td>37.2500</td>\n",
       "      <td>-119.2000</td>\n",
       "      <td>37.2598</td>\n",
       "      <td>-119.1838</td>\n",
       "      <td>1</td>\n",
       "      <td>0</td>\n",
       "      <td>0</td>\n",
       "      <td>NaN</td>\n",
       "      <td>NaN</td>\n",
       "      <td>1.12</td>\n",
       "      <td>25</td>\n",
       "    </tr>\n",
       "    <tr>\n",
       "      <th>15890</th>\n",
       "      <td>67504</td>\n",
       "      <td>2020</td>\n",
       "      <td>9</td>\n",
       "      <td>7</td>\n",
       "      <td>2020-09-07 15:14:00</td>\n",
       "      <td>OH</td>\n",
       "      <td>40.2966</td>\n",
       "      <td>-82.9889</td>\n",
       "      <td>40.2703</td>\n",
       "      <td>-82.9386</td>\n",
       "      <td>0</td>\n",
       "      <td>0</td>\n",
       "      <td>0</td>\n",
       "      <td>25000.0</td>\n",
       "      <td>NaN</td>\n",
       "      <td>3.21</td>\n",
       "      <td>150</td>\n",
       "    </tr>\n",
       "  </tbody>\n",
       "</table>\n",
       "<p>15891 rows × 17 columns</p>\n",
       "</div>"
      ],
      "text/plain": [
       "       surr_key  Year  Month  Day            Timestamp State  Start_Lat  \\\n",
       "0         51193  2008     10   11  2008-10-11 18:33:00    NM    35.1500   \n",
       "1         51194  2008     10   11  2008-10-11 21:54:00    KS    39.3300   \n",
       "2         51195  2008     10   24  2008-10-24 16:55:00    GA    31.0200   \n",
       "3         51196  2008     10    6  2008-10-06 13:46:00    AR    34.5800   \n",
       "4         51197  2008     10    6  2008-10-06 16:05:00    TX    33.0700   \n",
       "...         ...   ...    ...  ...                  ...   ...        ...   \n",
       "15886     67499  2020      9    1  2020-09-01 16:24:00    TN    36.3290   \n",
       "15887     67501  2020      9    3  2020-09-03 15:57:00    MD    38.9480   \n",
       "15888     67502  2020      9    5  2020-09-05 16:17:00    CA    37.3500   \n",
       "15889     67503  2020      9    5  2020-09-05 18:29:00    CA    37.2500   \n",
       "15890     67504  2020      9    7  2020-09-07 15:14:00    OH    40.2966   \n",
       "\n",
       "       Start_Lon  End_Lat   End_Lon  EF  Injuries  Fatalities       Loss  \\\n",
       "0      -105.9400   0.0000    0.0000   0         0           0    12000.0   \n",
       "1      -101.5500   0.0000    0.0000   0         0           0        NaN   \n",
       "2       -81.8100   0.0000    0.0000   0         0           0     1000.0   \n",
       "3       -94.1500  34.6300  -94.1200   1         0           0    75000.0   \n",
       "4       -94.1000  33.0900  -94.0800   0         0           0    75000.0   \n",
       "...          ...      ...       ...  ..       ...         ...        ...   \n",
       "15886   -89.4981  36.3517  -89.4729   0         0           0        NaN   \n",
       "15887   -76.5695  38.9233  -76.4615   0         0           0  1250000.0   \n",
       "15888  -119.3400  37.5218 -119.3056   2         0           0        NaN   \n",
       "15889  -119.2000  37.2598 -119.1838   1         0           0        NaN   \n",
       "15890   -82.9889  40.2703  -82.9386   0         0           0    25000.0   \n",
       "\n",
       "       Crop_Loss  Length  Width  \n",
       "0            NaN    0.02     10  \n",
       "1            NaN    0.25     10  \n",
       "2            NaN    0.25     25  \n",
       "3            NaN    3.41    250  \n",
       "4            NaN    1.50    100  \n",
       "...          ...     ...    ...  \n",
       "15886     2000.0    2.10     50  \n",
       "15887        NaN    6.05    100  \n",
       "15888        NaN   12.02     50  \n",
       "15889        NaN    1.12     25  \n",
       "15890        NaN    3.21    150  \n",
       "\n",
       "[15891 rows x 17 columns]"
      ]
     },
     "execution_count": 2,
     "metadata": {},
     "output_type": "execute_result"
    }
   ],
   "source": [
    "# Loading data\n",
    "file_path = Path(\"../Cleaned_Data/2008-2020_tornadoes_EF_cleaned.csv\")\n",
    "tornado_df = pd.read_csv(file_path)\n",
    "tornado_df"
   ]
  },
  {
   "cell_type": "code",
   "execution_count": 3,
   "id": "1dcbca99",
   "metadata": {},
   "outputs": [
    {
     "data": {
      "text/plain": [
       "Index(['surr_key', 'Year', 'Month', 'Day', 'Timestamp', 'State', 'Start_Lat',\n",
       "       'Start_Lon', 'End_Lat', 'End_Lon', 'EF', 'Injuries', 'Fatalities',\n",
       "       'Loss', 'Crop_Loss', 'Length', 'Width'],\n",
       "      dtype='object')"
      ]
     },
     "execution_count": 3,
     "metadata": {},
     "output_type": "execute_result"
    }
   ],
   "source": [
    "tornado_df.columns"
   ]
  },
  {
   "cell_type": "code",
   "execution_count": 4,
   "id": "8b99c5f9",
   "metadata": {},
   "outputs": [],
   "source": [
    "# drop na columns\n",
    "tornado_df = tornado_df.dropna()"
   ]
  },
  {
   "cell_type": "markdown",
   "id": "4046e39c",
   "metadata": {},
   "source": [
    "## Machine Learning"
   ]
  },
  {
   "cell_type": "code",
   "execution_count": 5,
   "id": "e87307fb",
   "metadata": {},
   "outputs": [],
   "source": [
    "# Import Dependencies\n",
    "from sklearn.model_selection import train_test_split\n",
    "from sklearn.preprocessing import StandardScaler\n",
    "from sklearn.ensemble import RandomForestClassifier\n",
    "from sklearn.metrics import confusion_matrix, accuracy_score, classification_report"
   ]
  },
  {
   "cell_type": "markdown",
   "id": "29b3b88f",
   "metadata": {},
   "source": [
    "### Random Forest -- feature importance"
   ]
  },
  {
   "cell_type": "markdown",
   "id": "96cec66b",
   "metadata": {},
   "source": [
    "This algorithm takes inputs (Injuries EF Length\tWidth) to predict (Fatalities)"
   ]
  },
  {
   "cell_type": "markdown",
   "id": "9b432474",
   "metadata": {},
   "source": [
    "#### 1. Define input data (X) and output data (y)"
   ]
  },
  {
   "cell_type": "code",
   "execution_count": 7,
   "id": "b67ab39f",
   "metadata": {},
   "outputs": [
    {
     "data": {
      "text/html": [
       "<div>\n",
       "<style scoped>\n",
       "    .dataframe tbody tr th:only-of-type {\n",
       "        vertical-align: middle;\n",
       "    }\n",
       "\n",
       "    .dataframe tbody tr th {\n",
       "        vertical-align: top;\n",
       "    }\n",
       "\n",
       "    .dataframe thead th {\n",
       "        text-align: right;\n",
       "    }\n",
       "</style>\n",
       "<table border=\"1\" class=\"dataframe\">\n",
       "  <thead>\n",
       "    <tr style=\"text-align: right;\">\n",
       "      <th></th>\n",
       "      <th>EF</th>\n",
       "      <th>Injuries</th>\n",
       "      <th>Length</th>\n",
       "      <th>Width</th>\n",
       "    </tr>\n",
       "  </thead>\n",
       "  <tbody>\n",
       "    <tr>\n",
       "      <th>22</th>\n",
       "      <td>1</td>\n",
       "      <td>0</td>\n",
       "      <td>8.13</td>\n",
       "      <td>200</td>\n",
       "    </tr>\n",
       "    <tr>\n",
       "      <th>28</th>\n",
       "      <td>2</td>\n",
       "      <td>2</td>\n",
       "      <td>4.09</td>\n",
       "      <td>150</td>\n",
       "    </tr>\n",
       "    <tr>\n",
       "      <th>29</th>\n",
       "      <td>3</td>\n",
       "      <td>4</td>\n",
       "      <td>8.19</td>\n",
       "      <td>100</td>\n",
       "    </tr>\n",
       "    <tr>\n",
       "      <th>73</th>\n",
       "      <td>1</td>\n",
       "      <td>0</td>\n",
       "      <td>10.59</td>\n",
       "      <td>500</td>\n",
       "    </tr>\n",
       "    <tr>\n",
       "      <th>81</th>\n",
       "      <td>1</td>\n",
       "      <td>0</td>\n",
       "      <td>3.14</td>\n",
       "      <td>250</td>\n",
       "    </tr>\n",
       "    <tr>\n",
       "      <th>...</th>\n",
       "      <td>...</td>\n",
       "      <td>...</td>\n",
       "      <td>...</td>\n",
       "      <td>...</td>\n",
       "    </tr>\n",
       "    <tr>\n",
       "      <th>15764</th>\n",
       "      <td>0</td>\n",
       "      <td>0</td>\n",
       "      <td>1.26</td>\n",
       "      <td>50</td>\n",
       "    </tr>\n",
       "    <tr>\n",
       "      <th>15785</th>\n",
       "      <td>1</td>\n",
       "      <td>1</td>\n",
       "      <td>0.26</td>\n",
       "      <td>50</td>\n",
       "    </tr>\n",
       "    <tr>\n",
       "      <th>15786</th>\n",
       "      <td>1</td>\n",
       "      <td>0</td>\n",
       "      <td>2.17</td>\n",
       "      <td>100</td>\n",
       "    </tr>\n",
       "    <tr>\n",
       "      <th>15838</th>\n",
       "      <td>0</td>\n",
       "      <td>0</td>\n",
       "      <td>2.58</td>\n",
       "      <td>100</td>\n",
       "    </tr>\n",
       "    <tr>\n",
       "      <th>15844</th>\n",
       "      <td>1</td>\n",
       "      <td>0</td>\n",
       "      <td>0.87</td>\n",
       "      <td>100</td>\n",
       "    </tr>\n",
       "  </tbody>\n",
       "</table>\n",
       "<p>640 rows × 4 columns</p>\n",
       "</div>"
      ],
      "text/plain": [
       "       EF  Injuries  Length  Width\n",
       "22      1         0    8.13    200\n",
       "28      2         2    4.09    150\n",
       "29      3         4    8.19    100\n",
       "73      1         0   10.59    500\n",
       "81      1         0    3.14    250\n",
       "...    ..       ...     ...    ...\n",
       "15764   0         0    1.26     50\n",
       "15785   1         1    0.26     50\n",
       "15786   1         0    2.17    100\n",
       "15838   0         0    2.58    100\n",
       "15844   1         0    0.87    100\n",
       "\n",
       "[640 rows x 4 columns]"
      ]
     },
     "execution_count": 7,
     "metadata": {},
     "output_type": "execute_result"
    }
   ],
   "source": [
    "X = tornado_df.copy()\n",
    "X = X.drop(['surr_key','Year', 'Month', 'Day', 'Timestamp','State','Start_Lat','Start_Lon','End_Lat', 'End_Lon','Loss','Crop_Loss', 'Fatalities'], axis=1)\n",
    "X"
   ]
  },
  {
   "cell_type": "code",
   "execution_count": 8,
   "id": "18d8940f",
   "metadata": {},
   "outputs": [
    {
     "data": {
      "text/plain": [
       "array([0, 1, 1, 0, 0, 0, 0, 0, 0, 0], dtype=int64)"
      ]
     },
     "execution_count": 8,
     "metadata": {},
     "output_type": "execute_result"
    }
   ],
   "source": [
    "y = tornado_df[\"Fatalities\"].ravel()\n",
    "y[:10]"
   ]
  },
  {
   "cell_type": "markdown",
   "id": "9f56735e",
   "metadata": {},
   "source": [
    "#### 2. Splitting into Train and Test sets"
   ]
  },
  {
   "cell_type": "code",
   "execution_count": 9,
   "id": "bf10a149",
   "metadata": {},
   "outputs": [],
   "source": [
    "X_train, X_test, y_train, y_test = train_test_split(X, y)"
   ]
  },
  {
   "cell_type": "markdown",
   "id": "98eba141",
   "metadata": {},
   "source": [
    "#### 3. Scale the input data (X)"
   ]
  },
  {
   "cell_type": "code",
   "execution_count": 10,
   "id": "9c527628",
   "metadata": {},
   "outputs": [],
   "source": [
    "# Creating StandardScaler instance\n",
    "scaler = StandardScaler()\n",
    "# Fitting Standard Scaller\n",
    "X_scaler = scaler.fit(X_train)\n",
    "# Scaling data\n",
    "X_train_scaled = X_scaler.transform(X_train)\n",
    "X_test_scaled = X_scaler.transform(X_test)"
   ]
  },
  {
   "cell_type": "markdown",
   "id": "b3c929c2",
   "metadata": {},
   "source": [
    "#### 4. Fitting the Random Forest Model"
   ]
  },
  {
   "cell_type": "code",
   "execution_count": 11,
   "id": "ccbd0619",
   "metadata": {},
   "outputs": [],
   "source": [
    "# Create a random forest classifier.\n",
    "rf_model = RandomForestClassifier(n_estimators=500, random_state=78)"
   ]
  },
  {
   "cell_type": "code",
   "execution_count": 12,
   "id": "9ca74dc5",
   "metadata": {},
   "outputs": [],
   "source": [
    " # Fitting the model\n",
    "model = rf_model.fit(X_train_scaled, y_train)"
   ]
  },
  {
   "cell_type": "markdown",
   "id": "aca260f3",
   "metadata": {},
   "source": [
    "#### 5. Making Predictions Using Random Forest Model"
   ]
  },
  {
   "cell_type": "code",
   "execution_count": 13,
   "id": "03bdb8a6",
   "metadata": {},
   "outputs": [
    {
     "data": {
      "text/plain": [
       "array([ 0,  0,  0,  0,  0,  0,  0,  0,  0, 10,  0,  0,  0,  0,  0,  0,  0,\n",
       "        0,  0,  0,  0,  0,  0,  0,  0,  0,  0,  0,  0,  0,  0,  0,  0,  0,\n",
       "        0,  0,  0,  0,  0,  0,  0,  0,  0,  0,  0,  0,  0,  0,  0,  0,  0,\n",
       "        0,  0,  0,  0,  0,  0,  0,  0,  0,  0,  0,  0,  0,  0,  0,  0,  0,\n",
       "        0,  0,  0,  0,  0,  0,  0,  0,  0,  0,  0,  0,  0,  0,  0,  0,  0,\n",
       "        0,  0,  0,  0,  0,  0,  0,  0,  0,  0,  0,  0,  0,  0,  0,  0,  0,\n",
       "        0,  0,  0,  0,  0,  0,  0,  0,  0,  0,  0,  0,  0,  0,  0,  0,  0,\n",
       "        0,  1,  0,  0,  0,  0,  0,  1,  0,  0,  0,  0,  0,  0,  0,  0,  0,\n",
       "        0,  0,  0,  0,  0,  0,  0,  0,  0,  0,  0,  0,  0,  0,  0,  0,  0,\n",
       "        0,  0,  0,  0,  0,  0,  0], dtype=int64)"
      ]
     },
     "execution_count": 13,
     "metadata": {},
     "output_type": "execute_result"
    }
   ],
   "source": [
    "# Making predictions using the testing data.\n",
    "predictions = rf_model.predict(X_test_scaled)\n",
    "predictions"
   ]
  },
  {
   "cell_type": "markdown",
   "id": "94d84c77",
   "metadata": {},
   "source": [
    "#### 6. Model Evaluation"
   ]
  },
  {
   "cell_type": "code",
   "execution_count": 15,
   "id": "ab35e5ae",
   "metadata": {},
   "outputs": [],
   "source": [
    "# Calculating the confusion matrix\n",
    "cm = confusion_matrix(y_test, predictions)\n",
    "cm_df = pd.DataFrame(\n",
    "    cm, index=[\"Actual 0\", \"Actual 1\",\"Actual 2\", \"Actual 3\"], columns=[\"Predicted 0\", \"Predicted 1\", \"Predicted 2\", \"Predicted 3\"]\n",
    ")\n",
    "# Calculating the accuracy score\n",
    "acc_score = accuracy_score(y_test, predictions)"
   ]
  },
  {
   "cell_type": "code",
   "execution_count": 16,
   "id": "ee16e8ed",
   "metadata": {},
   "outputs": [
    {
     "name": "stdout",
     "output_type": "stream",
     "text": [
      "Confusion Matrix\n"
     ]
    },
    {
     "data": {
      "text/html": [
       "<div>\n",
       "<style scoped>\n",
       "    .dataframe tbody tr th:only-of-type {\n",
       "        vertical-align: middle;\n",
       "    }\n",
       "\n",
       "    .dataframe tbody tr th {\n",
       "        vertical-align: top;\n",
       "    }\n",
       "\n",
       "    .dataframe thead th {\n",
       "        text-align: right;\n",
       "    }\n",
       "</style>\n",
       "<table border=\"1\" class=\"dataframe\">\n",
       "  <thead>\n",
       "    <tr style=\"text-align: right;\">\n",
       "      <th></th>\n",
       "      <th>Predicted 0</th>\n",
       "      <th>Predicted 1</th>\n",
       "      <th>Predicted 2</th>\n",
       "      <th>Predicted 3</th>\n",
       "    </tr>\n",
       "  </thead>\n",
       "  <tbody>\n",
       "    <tr>\n",
       "      <th>Actual 0</th>\n",
       "      <td>153</td>\n",
       "      <td>2</td>\n",
       "      <td>0</td>\n",
       "      <td>0</td>\n",
       "    </tr>\n",
       "    <tr>\n",
       "      <th>Actual 1</th>\n",
       "      <td>4</td>\n",
       "      <td>0</td>\n",
       "      <td>0</td>\n",
       "      <td>0</td>\n",
       "    </tr>\n",
       "    <tr>\n",
       "      <th>Actual 2</th>\n",
       "      <td>0</td>\n",
       "      <td>0</td>\n",
       "      <td>0</td>\n",
       "      <td>1</td>\n",
       "    </tr>\n",
       "    <tr>\n",
       "      <th>Actual 3</th>\n",
       "      <td>0</td>\n",
       "      <td>0</td>\n",
       "      <td>0</td>\n",
       "      <td>0</td>\n",
       "    </tr>\n",
       "  </tbody>\n",
       "</table>\n",
       "</div>"
      ],
      "text/plain": [
       "          Predicted 0  Predicted 1  Predicted 2  Predicted 3\n",
       "Actual 0          153            2            0            0\n",
       "Actual 1            4            0            0            0\n",
       "Actual 2            0            0            0            1\n",
       "Actual 3            0            0            0            0"
      ]
     },
     "metadata": {},
     "output_type": "display_data"
    },
    {
     "name": "stdout",
     "output_type": "stream",
     "text": [
      "Accuracy Score : 0.95625\n",
      "Classification Report\n",
      "              precision    recall  f1-score   support\n",
      "\n",
      "           0       0.97      0.99      0.98       155\n",
      "           1       0.00      0.00      0.00         4\n",
      "           9       0.00      0.00      0.00         1\n",
      "          10       0.00      0.00      0.00         0\n",
      "\n",
      "    accuracy                           0.96       160\n",
      "   macro avg       0.24      0.25      0.25       160\n",
      "weighted avg       0.94      0.96      0.95       160\n",
      "\n"
     ]
    },
    {
     "name": "stderr",
     "output_type": "stream",
     "text": [
      "C:\\Users\\Nat\\anaconda3\\envs\\mlenv\\lib\\site-packages\\sklearn\\metrics\\_classification.py:1248: UndefinedMetricWarning: Precision and F-score are ill-defined and being set to 0.0 in labels with no predicted samples. Use `zero_division` parameter to control this behavior.\n",
      "  _warn_prf(average, modifier, msg_start, len(result))\n",
      "C:\\Users\\Nat\\anaconda3\\envs\\mlenv\\lib\\site-packages\\sklearn\\metrics\\_classification.py:1248: UndefinedMetricWarning: Recall and F-score are ill-defined and being set to 0.0 in labels with no true samples. Use `zero_division` parameter to control this behavior.\n",
      "  _warn_prf(average, modifier, msg_start, len(result))\n",
      "C:\\Users\\Nat\\anaconda3\\envs\\mlenv\\lib\\site-packages\\sklearn\\metrics\\_classification.py:1248: UndefinedMetricWarning: Precision and F-score are ill-defined and being set to 0.0 in labels with no predicted samples. Use `zero_division` parameter to control this behavior.\n",
      "  _warn_prf(average, modifier, msg_start, len(result))\n",
      "C:\\Users\\Nat\\anaconda3\\envs\\mlenv\\lib\\site-packages\\sklearn\\metrics\\_classification.py:1248: UndefinedMetricWarning: Recall and F-score are ill-defined and being set to 0.0 in labels with no true samples. Use `zero_division` parameter to control this behavior.\n",
      "  _warn_prf(average, modifier, msg_start, len(result))\n",
      "C:\\Users\\Nat\\anaconda3\\envs\\mlenv\\lib\\site-packages\\sklearn\\metrics\\_classification.py:1248: UndefinedMetricWarning: Precision and F-score are ill-defined and being set to 0.0 in labels with no predicted samples. Use `zero_division` parameter to control this behavior.\n",
      "  _warn_prf(average, modifier, msg_start, len(result))\n",
      "C:\\Users\\Nat\\anaconda3\\envs\\mlenv\\lib\\site-packages\\sklearn\\metrics\\_classification.py:1248: UndefinedMetricWarning: Recall and F-score are ill-defined and being set to 0.0 in labels with no true samples. Use `zero_division` parameter to control this behavior.\n",
      "  _warn_prf(average, modifier, msg_start, len(result))\n"
     ]
    }
   ],
   "source": [
    "# Displaying results\n",
    "print(\"Confusion Matrix\")\n",
    "display(cm_df)\n",
    "print(f\"Accuracy Score : {acc_score}\")\n",
    "print(\"Classification Report\")\n",
    "print(classification_report(y_test, predictions))"
   ]
  },
  {
   "cell_type": "markdown",
   "id": "5dfae66a",
   "metadata": {},
   "source": [
    "#### 7. Rank the Importance of Features"
   ]
  },
  {
   "cell_type": "code",
   "execution_count": 17,
   "id": "7d679fe7",
   "metadata": {},
   "outputs": [],
   "source": [
    "# Calculate feature importance in the Random Forest model.\n",
    "importances = rf_model.feature_importances_"
   ]
  },
  {
   "cell_type": "code",
   "execution_count": 18,
   "id": "84c85f3d",
   "metadata": {},
   "outputs": [
    {
     "data": {
      "text/plain": [
       "[(0.3507089623401452, 'Injuries'),\n",
       " (0.25647005483182567, 'Length'),\n",
       " (0.2070829829889132, 'EF'),\n",
       " (0.185737999839116, 'Width')]"
      ]
     },
     "execution_count": 18,
     "metadata": {},
     "output_type": "execute_result"
    }
   ],
   "source": [
    "# We can sort the features by their importance.\n",
    "feature_sort = sorted(zip(rf_model.feature_importances_, X.columns), reverse=True)\n",
    "feature_sort"
   ]
  },
  {
   "cell_type": "code",
   "execution_count": 19,
   "id": "8e72e1c8",
   "metadata": {},
   "outputs": [
    {
     "data": {
      "image/png": "[encoded data removed]",
      "text/plain": [
       "<Figure size 432x288 with 1 Axes>"
      ]
     },
     "metadata": {
      "needs_background": "light"
     },
     "output_type": "display_data"
    }
   ],
   "source": [
    "# Plot Feature Importance\n",
    "features_sorted = []\n",
    "importance_sorted = []\n",
    "\n",
    "for i in feature_sort:\n",
    "    features_sorted += [i[1]]\n",
    "    importance_sorted += [i[0]]\n",
    "\n",
    "plt.title(\"Feature importance\", fontsize=15)\n",
    "plt.xlabel(\"Importance\", fontsize=13)\n",
    "plt.ylabel(\"Features\", fontsize=13)\n",
    "\n",
    "plt.barh(range(len(importance_sorted)), importance_sorted,)\n",
    "plt.yticks(range(len(importance_sorted)), features_sorted);"
   ]
  },
  {
   "cell_type": "code",
   "execution_count": null,
   "id": "64447569",
   "metadata": {},
   "outputs": [],
   "source": []
  }
 ],
 "metadata": {
  "kernelspec": {
   "display_name": "mlenv",
   "language": "python",
   "name": "mlenv"
  },
  "language_info": {
   "codemirror_mode": {
    "name": "ipython",
    "version": 3
   },
   "file_extension": ".py",
   "mimetype": "text/x-python",
   "name": "python",
   "nbconvert_exporter": "python",
   "pygments_lexer": "ipython3",
   "version": "3.7.11"
  }
 },
 "nbformat": 4,
 "nbformat_minor": 5
}
