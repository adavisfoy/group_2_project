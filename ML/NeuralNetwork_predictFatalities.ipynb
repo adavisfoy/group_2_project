{
 "cells": [
  {
   "cell_type": "markdown",
   "metadata": {
    "id": "MSPohgKbP_Nx"
   },
   "source": [
    "# Deliverable 1: Preprocessing the Data for a Neural Network"
   ]
  },
  {
   "cell_type": "markdown",
   "metadata": {
    "id": "geL60gIf-_9F"
   },
   "source": [
    "### 1. Import & Inspect the Data"
   ]
  },
  {
   "cell_type": "code",
   "execution_count": 1,
   "metadata": {
    "colab": {
     "base_uri": "https://localhost:8080/"
    },
    "executionInfo": {
     "elapsed": 5292,
     "status": "ok",
     "timestamp": 1651006260186,
     "user": {
      "displayName": "Natalie Smeltz",
      "userId": "00128997758011837641"
     },
     "user_tz": 300
    },
    "id": "ec7mg1vlP_Nz",
    "outputId": "e36bd740-ce3d-4099-f37e-ce1ea4e21466"
   },
   "outputs": [
    {
     "name": "stdout",
     "output_type": "stream",
     "text": [
      "Drive already mounted at /content/gdrive; to attempt to forcibly remount, call drive.mount(\"/content/gdrive\", force_remount=True).\n"
     ]
    }
   ],
   "source": [
    "# Import our dependencies\n",
    "from sklearn.model_selection import train_test_split\n",
    "from sklearn.preprocessing import StandardScaler\n",
    "import pandas as pd\n",
    "import tensorflow as tf\n",
    "\n",
    "\n",
    "# Connect to Google Drive\n",
    "from google.colab import drive \n",
    "drive.mount('/content/gdrive')"
   ]
  },
  {
   "cell_type": "code",
   "execution_count": 3,
   "metadata": {
    "colab": {
     "base_uri": "https://localhost:8080/",
     "height": 206
    },
    "executionInfo": {
     "elapsed": 130,
     "status": "ok",
     "timestamp": 1651006260314,
     "user": {
      "displayName": "Natalie Smeltz",
      "userId": "00128997758011837641"
     },
     "user_tz": 300
    },
    "id": "LGNf4KUcRCKR",
    "outputId": "fff0454e-bf70-4e1c-e74d-1281532eda17"
   },
   "outputs": [
    {
     "data": {
      "text/html": [
       "<div>\n",
       "<style scoped>\n",
       "    .dataframe tbody tr th:only-of-type {\n",
       "        vertical-align: middle;\n",
       "    }\n",
       "\n",
       "    .dataframe tbody tr th {\n",
       "        vertical-align: top;\n",
       "    }\n",
       "\n",
       "    .dataframe thead th {\n",
       "        text-align: right;\n",
       "    }\n",
       "</style>\n",
       "<table border=\"1\" class=\"dataframe\">\n",
       "  <thead>\n",
       "    <tr style=\"text-align: right;\">\n",
       "      <th></th>\n",
       "      <th>Year</th>\n",
       "      <th>Month</th>\n",
       "      <th>Day</th>\n",
       "      <th>Timestamp</th>\n",
       "      <th>State</th>\n",
       "      <th>State_Fips</th>\n",
       "      <th>County_Fips</th>\n",
       "      <th>Start_Lat</th>\n",
       "      <th>Start_Lon</th>\n",
       "      <th>End_Lat</th>\n",
       "      <th>End_Lon</th>\n",
       "      <th>EF</th>\n",
       "      <th>Injuries</th>\n",
       "      <th>Fatalities</th>\n",
       "      <th>Loss</th>\n",
       "      <th>Crop_Loss</th>\n",
       "      <th>Length</th>\n",
       "      <th>Width</th>\n",
       "    </tr>\n",
       "  </thead>\n",
       "  <tbody>\n",
       "    <tr>\n",
       "      <th>0</th>\n",
       "      <td>2008</td>\n",
       "      <td>10</td>\n",
       "      <td>11</td>\n",
       "      <td>2008-10-11 18:33:00</td>\n",
       "      <td>NM</td>\n",
       "      <td>35</td>\n",
       "      <td>49</td>\n",
       "      <td>35.1500</td>\n",
       "      <td>-105.9400</td>\n",
       "      <td>0.0000</td>\n",
       "      <td>0.0000</td>\n",
       "      <td>0</td>\n",
       "      <td>0</td>\n",
       "      <td>0</td>\n",
       "      <td>12000.0</td>\n",
       "      <td>NaN</td>\n",
       "      <td>0.02</td>\n",
       "      <td>10</td>\n",
       "    </tr>\n",
       "    <tr>\n",
       "      <th>1</th>\n",
       "      <td>2008</td>\n",
       "      <td>10</td>\n",
       "      <td>11</td>\n",
       "      <td>2008-10-11 21:54:00</td>\n",
       "      <td>KS</td>\n",
       "      <td>20</td>\n",
       "      <td>181</td>\n",
       "      <td>39.3300</td>\n",
       "      <td>-101.5500</td>\n",
       "      <td>0.0000</td>\n",
       "      <td>0.0000</td>\n",
       "      <td>0</td>\n",
       "      <td>0</td>\n",
       "      <td>0</td>\n",
       "      <td>NaN</td>\n",
       "      <td>NaN</td>\n",
       "      <td>0.25</td>\n",
       "      <td>10</td>\n",
       "    </tr>\n",
       "    <tr>\n",
       "      <th>2</th>\n",
       "      <td>2008</td>\n",
       "      <td>10</td>\n",
       "      <td>24</td>\n",
       "      <td>2008-10-24 16:55:00</td>\n",
       "      <td>GA</td>\n",
       "      <td>13</td>\n",
       "      <td>39</td>\n",
       "      <td>31.0200</td>\n",
       "      <td>-81.8100</td>\n",
       "      <td>0.0000</td>\n",
       "      <td>0.0000</td>\n",
       "      <td>0</td>\n",
       "      <td>0</td>\n",
       "      <td>0</td>\n",
       "      <td>1000.0</td>\n",
       "      <td>NaN</td>\n",
       "      <td>0.25</td>\n",
       "      <td>25</td>\n",
       "    </tr>\n",
       "    <tr>\n",
       "      <th>3</th>\n",
       "      <td>2008</td>\n",
       "      <td>10</td>\n",
       "      <td>6</td>\n",
       "      <td>2008-10-06 13:46:00</td>\n",
       "      <td>AR</td>\n",
       "      <td>5</td>\n",
       "      <td>113</td>\n",
       "      <td>34.5800</td>\n",
       "      <td>-94.1500</td>\n",
       "      <td>34.6300</td>\n",
       "      <td>-94.1200</td>\n",
       "      <td>1</td>\n",
       "      <td>0</td>\n",
       "      <td>0</td>\n",
       "      <td>75000.0</td>\n",
       "      <td>NaN</td>\n",
       "      <td>3.41</td>\n",
       "      <td>250</td>\n",
       "    </tr>\n",
       "    <tr>\n",
       "      <th>4</th>\n",
       "      <td>2008</td>\n",
       "      <td>10</td>\n",
       "      <td>6</td>\n",
       "      <td>2008-10-06 16:05:00</td>\n",
       "      <td>TX</td>\n",
       "      <td>48</td>\n",
       "      <td>67</td>\n",
       "      <td>33.0700</td>\n",
       "      <td>-94.1000</td>\n",
       "      <td>33.0900</td>\n",
       "      <td>-94.0800</td>\n",
       "      <td>0</td>\n",
       "      <td>0</td>\n",
       "      <td>0</td>\n",
       "      <td>75000.0</td>\n",
       "      <td>NaN</td>\n",
       "      <td>1.50</td>\n",
       "      <td>100</td>\n",
       "    </tr>\n",
       "    <tr>\n",
       "      <th>...</th>\n",
       "      <td>...</td>\n",
       "      <td>...</td>\n",
       "      <td>...</td>\n",
       "      <td>...</td>\n",
       "      <td>...</td>\n",
       "      <td>...</td>\n",
       "      <td>...</td>\n",
       "      <td>...</td>\n",
       "      <td>...</td>\n",
       "      <td>...</td>\n",
       "      <td>...</td>\n",
       "      <td>...</td>\n",
       "      <td>...</td>\n",
       "      <td>...</td>\n",
       "      <td>...</td>\n",
       "      <td>...</td>\n",
       "      <td>...</td>\n",
       "      <td>...</td>\n",
       "    </tr>\n",
       "    <tr>\n",
       "      <th>15886</th>\n",
       "      <td>2020</td>\n",
       "      <td>9</td>\n",
       "      <td>1</td>\n",
       "      <td>2020-09-01 16:24:00</td>\n",
       "      <td>TN</td>\n",
       "      <td>47</td>\n",
       "      <td>95</td>\n",
       "      <td>36.3290</td>\n",
       "      <td>-89.4981</td>\n",
       "      <td>36.3517</td>\n",
       "      <td>-89.4729</td>\n",
       "      <td>0</td>\n",
       "      <td>0</td>\n",
       "      <td>0</td>\n",
       "      <td>NaN</td>\n",
       "      <td>2000.0</td>\n",
       "      <td>2.10</td>\n",
       "      <td>50</td>\n",
       "    </tr>\n",
       "    <tr>\n",
       "      <th>15887</th>\n",
       "      <td>2020</td>\n",
       "      <td>9</td>\n",
       "      <td>3</td>\n",
       "      <td>2020-09-03 15:57:00</td>\n",
       "      <td>MD</td>\n",
       "      <td>24</td>\n",
       "      <td>3</td>\n",
       "      <td>38.9480</td>\n",
       "      <td>-76.5695</td>\n",
       "      <td>38.9233</td>\n",
       "      <td>-76.4615</td>\n",
       "      <td>0</td>\n",
       "      <td>0</td>\n",
       "      <td>0</td>\n",
       "      <td>1250000.0</td>\n",
       "      <td>NaN</td>\n",
       "      <td>6.05</td>\n",
       "      <td>100</td>\n",
       "    </tr>\n",
       "    <tr>\n",
       "      <th>15888</th>\n",
       "      <td>2020</td>\n",
       "      <td>9</td>\n",
       "      <td>5</td>\n",
       "      <td>2020-09-05 16:17:00</td>\n",
       "      <td>CA</td>\n",
       "      <td>6</td>\n",
       "      <td>39</td>\n",
       "      <td>37.3500</td>\n",
       "      <td>-119.3400</td>\n",
       "      <td>37.5218</td>\n",
       "      <td>-119.3056</td>\n",
       "      <td>2</td>\n",
       "      <td>0</td>\n",
       "      <td>0</td>\n",
       "      <td>NaN</td>\n",
       "      <td>NaN</td>\n",
       "      <td>12.02</td>\n",
       "      <td>50</td>\n",
       "    </tr>\n",
       "    <tr>\n",
       "      <th>15889</th>\n",
       "      <td>2020</td>\n",
       "      <td>9</td>\n",
       "      <td>5</td>\n",
       "      <td>2020-09-05 18:29:00</td>\n",
       "      <td>CA</td>\n",
       "      <td>6</td>\n",
       "      <td>19</td>\n",
       "      <td>37.2500</td>\n",
       "      <td>-119.2000</td>\n",
       "      <td>37.2598</td>\n",
       "      <td>-119.1838</td>\n",
       "      <td>1</td>\n",
       "      <td>0</td>\n",
       "      <td>0</td>\n",
       "      <td>NaN</td>\n",
       "      <td>NaN</td>\n",
       "      <td>1.12</td>\n",
       "      <td>25</td>\n",
       "    </tr>\n",
       "    <tr>\n",
       "      <th>15890</th>\n",
       "      <td>2020</td>\n",
       "      <td>9</td>\n",
       "      <td>7</td>\n",
       "      <td>2020-09-07 15:14:00</td>\n",
       "      <td>OH</td>\n",
       "      <td>39</td>\n",
       "      <td>41</td>\n",
       "      <td>40.2966</td>\n",
       "      <td>-82.9889</td>\n",
       "      <td>40.2703</td>\n",
       "      <td>-82.9386</td>\n",
       "      <td>0</td>\n",
       "      <td>0</td>\n",
       "      <td>0</td>\n",
       "      <td>25000.0</td>\n",
       "      <td>NaN</td>\n",
       "      <td>3.21</td>\n",
       "      <td>150</td>\n",
       "    </tr>\n",
       "  </tbody>\n",
       "</table>\n",
       "<p>15891 rows × 18 columns</p>\n",
       "</div>"
      ],
      "text/plain": [
       "       Year  Month  Day            Timestamp State  State_Fips  County_Fips  \\\n",
       "0      2008     10   11  2008-10-11 18:33:00    NM          35           49   \n",
       "1      2008     10   11  2008-10-11 21:54:00    KS          20          181   \n",
       "2      2008     10   24  2008-10-24 16:55:00    GA          13           39   \n",
       "3      2008     10    6  2008-10-06 13:46:00    AR           5          113   \n",
       "4      2008     10    6  2008-10-06 16:05:00    TX          48           67   \n",
       "...     ...    ...  ...                  ...   ...         ...          ...   \n",
       "15886  2020      9    1  2020-09-01 16:24:00    TN          47           95   \n",
       "15887  2020      9    3  2020-09-03 15:57:00    MD          24            3   \n",
       "15888  2020      9    5  2020-09-05 16:17:00    CA           6           39   \n",
       "15889  2020      9    5  2020-09-05 18:29:00    CA           6           19   \n",
       "15890  2020      9    7  2020-09-07 15:14:00    OH          39           41   \n",
       "\n",
       "       Start_Lat  Start_Lon  End_Lat   End_Lon  EF  Injuries  Fatalities  \\\n",
       "0        35.1500  -105.9400   0.0000    0.0000   0         0           0   \n",
       "1        39.3300  -101.5500   0.0000    0.0000   0         0           0   \n",
       "2        31.0200   -81.8100   0.0000    0.0000   0         0           0   \n",
       "3        34.5800   -94.1500  34.6300  -94.1200   1         0           0   \n",
       "4        33.0700   -94.1000  33.0900  -94.0800   0         0           0   \n",
       "...          ...        ...      ...       ...  ..       ...         ...   \n",
       "15886    36.3290   -89.4981  36.3517  -89.4729   0         0           0   \n",
       "15887    38.9480   -76.5695  38.9233  -76.4615   0         0           0   \n",
       "15888    37.3500  -119.3400  37.5218 -119.3056   2         0           0   \n",
       "15889    37.2500  -119.2000  37.2598 -119.1838   1         0           0   \n",
       "15890    40.2966   -82.9889  40.2703  -82.9386   0         0           0   \n",
       "\n",
       "            Loss  Crop_Loss  Length  Width  \n",
       "0        12000.0        NaN    0.02     10  \n",
       "1            NaN        NaN    0.25     10  \n",
       "2         1000.0        NaN    0.25     25  \n",
       "3        75000.0        NaN    3.41    250  \n",
       "4        75000.0        NaN    1.50    100  \n",
       "...          ...        ...     ...    ...  \n",
       "15886        NaN     2000.0    2.10     50  \n",
       "15887  1250000.0        NaN    6.05    100  \n",
       "15888        NaN        NaN   12.02     50  \n",
       "15889        NaN        NaN    1.12     25  \n",
       "15890    25000.0        NaN    3.21    150  \n",
       "\n",
       "[15891 rows x 18 columns]"
      ]
     },
     "execution_count": 3,
     "metadata": {},
     "output_type": "execute_result"
    }
   ],
   "source": [
    "# Loading data\n",
    "from path import Path\n",
    "import pandas as pd\n",
    "file_path = Path(\"../Cleaned_Data/2008-2020_tornadoes_EF_cleaned.csv\")\n",
    "tornado_df = pd.read_csv(file_path)\n",
    "tornado_df"
   ]
  },
  {
   "cell_type": "code",
   "execution_count": 4,
   "metadata": {
    "colab": {
     "base_uri": "https://localhost:8080/",
     "height": 206
    },
    "executionInfo": {
     "elapsed": 130,
     "status": "ok",
     "timestamp": 1651006260442,
     "user": {
      "displayName": "Natalie Smeltz",
      "userId": "00128997758011837641"
     },
     "user_tz": 300
    },
    "id": "bcsWqt9GP_N1",
    "outputId": "bac65ece-7072-40d5-818c-4df06685306d"
   },
   "outputs": [
    {
     "data": {
      "text/plain": [
       "Index(['Year', 'Month', 'Day', 'Timestamp', 'State', 'State_Fips',\n",
       "       'County_Fips', 'Start_Lat', 'Start_Lon', 'End_Lat', 'End_Lon', 'EF',\n",
       "       'Injuries', 'Fatalities', 'Loss', 'Crop_Loss', 'Length', 'Width'],\n",
       "      dtype='object')"
      ]
     },
     "execution_count": 4,
     "metadata": {},
     "output_type": "execute_result"
    }
   ],
   "source": [
    "tornado_df.columns"
   ]
  },
  {
   "cell_type": "code",
   "execution_count": 5,
   "metadata": {
    "colab": {
     "base_uri": "https://localhost:8080/"
    },
    "executionInfo": {
     "elapsed": 4,
     "status": "ok",
     "timestamp": 1651006260442,
     "user": {
      "displayName": "Natalie Smeltz",
      "userId": "00128997758011837641"
     },
     "user_tz": 300
    },
    "id": "cFOUCmIFXbE8",
    "outputId": "4ca4ba45-baa0-4548-df8a-214639892a5a"
   },
   "outputs": [],
   "source": [
    "# drop na columns\n",
    "tornado_df = tornado_df.dropna()"
   ]
  },
  {
   "cell_type": "markdown",
   "metadata": {},
   "source": [
    "### 1. Define input data (X) and output data (y)"
   ]
  },
  {
   "cell_type": "code",
   "execution_count": 6,
   "metadata": {},
   "outputs": [
    {
     "data": {
      "text/html": [
       "<div>\n",
       "<style scoped>\n",
       "    .dataframe tbody tr th:only-of-type {\n",
       "        vertical-align: middle;\n",
       "    }\n",
       "\n",
       "    .dataframe tbody tr th {\n",
       "        vertical-align: top;\n",
       "    }\n",
       "\n",
       "    .dataframe thead th {\n",
       "        text-align: right;\n",
       "    }\n",
       "</style>\n",
       "<table border=\"1\" class=\"dataframe\">\n",
       "  <thead>\n",
       "    <tr style=\"text-align: right;\">\n",
       "      <th></th>\n",
       "      <th>EF</th>\n",
       "      <th>Loss</th>\n",
       "      <th>Length</th>\n",
       "      <th>Width</th>\n",
       "    </tr>\n",
       "  </thead>\n",
       "  <tbody>\n",
       "    <tr>\n",
       "      <th>22</th>\n",
       "      <td>1</td>\n",
       "      <td>510000.0</td>\n",
       "      <td>8.13</td>\n",
       "      <td>200</td>\n",
       "    </tr>\n",
       "    <tr>\n",
       "      <th>28</th>\n",
       "      <td>2</td>\n",
       "      <td>500000.0</td>\n",
       "      <td>4.09</td>\n",
       "      <td>150</td>\n",
       "    </tr>\n",
       "    <tr>\n",
       "      <th>29</th>\n",
       "      <td>3</td>\n",
       "      <td>1000000.0</td>\n",
       "      <td>8.19</td>\n",
       "      <td>100</td>\n",
       "    </tr>\n",
       "    <tr>\n",
       "      <th>73</th>\n",
       "      <td>1</td>\n",
       "      <td>350000.0</td>\n",
       "      <td>10.59</td>\n",
       "      <td>500</td>\n",
       "    </tr>\n",
       "    <tr>\n",
       "      <th>81</th>\n",
       "      <td>1</td>\n",
       "      <td>20000.0</td>\n",
       "      <td>3.14</td>\n",
       "      <td>250</td>\n",
       "    </tr>\n",
       "    <tr>\n",
       "      <th>...</th>\n",
       "      <td>...</td>\n",
       "      <td>...</td>\n",
       "      <td>...</td>\n",
       "      <td>...</td>\n",
       "    </tr>\n",
       "    <tr>\n",
       "      <th>15764</th>\n",
       "      <td>0</td>\n",
       "      <td>20000.0</td>\n",
       "      <td>1.26</td>\n",
       "      <td>50</td>\n",
       "    </tr>\n",
       "    <tr>\n",
       "      <th>15785</th>\n",
       "      <td>1</td>\n",
       "      <td>35000.0</td>\n",
       "      <td>0.26</td>\n",
       "      <td>50</td>\n",
       "    </tr>\n",
       "    <tr>\n",
       "      <th>15786</th>\n",
       "      <td>1</td>\n",
       "      <td>45000.0</td>\n",
       "      <td>2.17</td>\n",
       "      <td>100</td>\n",
       "    </tr>\n",
       "    <tr>\n",
       "      <th>15838</th>\n",
       "      <td>0</td>\n",
       "      <td>150000.0</td>\n",
       "      <td>2.58</td>\n",
       "      <td>100</td>\n",
       "    </tr>\n",
       "    <tr>\n",
       "      <th>15844</th>\n",
       "      <td>1</td>\n",
       "      <td>225000.0</td>\n",
       "      <td>0.87</td>\n",
       "      <td>100</td>\n",
       "    </tr>\n",
       "  </tbody>\n",
       "</table>\n",
       "<p>640 rows × 4 columns</p>\n",
       "</div>"
      ],
      "text/plain": [
       "       EF       Loss  Length  Width\n",
       "22      1   510000.0    8.13    200\n",
       "28      2   500000.0    4.09    150\n",
       "29      3  1000000.0    8.19    100\n",
       "73      1   350000.0   10.59    500\n",
       "81      1    20000.0    3.14    250\n",
       "...    ..        ...     ...    ...\n",
       "15764   0    20000.0    1.26     50\n",
       "15785   1    35000.0    0.26     50\n",
       "15786   1    45000.0    2.17    100\n",
       "15838   0   150000.0    2.58    100\n",
       "15844   1   225000.0    0.87    100\n",
       "\n",
       "[640 rows x 4 columns]"
      ]
     },
     "execution_count": 6,
     "metadata": {},
     "output_type": "execute_result"
    }
   ],
   "source": [
    "X = tornado_df.copy()\n",
    "X = X.drop(['Year', 'Month', 'Day', 'Timestamp','State','Start_Lat','Start_Lon','End_Lat', 'End_Lon','Crop_Loss', 'Fatalities','Injuries','State_Fips','County_Fips'], axis=1)\n",
    "X"
   ]
  },
  {
   "cell_type": "code",
   "execution_count": 7,
   "metadata": {},
   "outputs": [
    {
     "data": {
      "text/plain": [
       "array([0, 1, 1, 0, 0, 0, 0, 0, 0, 0], dtype=int64)"
      ]
     },
     "execution_count": 7,
     "metadata": {},
     "output_type": "execute_result"
    }
   ],
   "source": [
    "y = tornado_df[\"Fatalities\"].ravel()\n",
    "y[:10]"
   ]
  },
  {
   "cell_type": "markdown",
   "metadata": {},
   "source": [
    "### 2. Splitting into Train and Test sets"
   ]
  },
  {
   "cell_type": "code",
   "execution_count": null,
   "metadata": {},
   "outputs": [],
   "source": [
    "X_train, X_test, y_train, y_test = train_test_split(X, y)"
   ]
  },
  {
   "cell_type": "markdown",
   "metadata": {},
   "source": [
    "### 3. Scale the input data (X)"
   ]
  },
  {
   "cell_type": "code",
   "execution_count": null,
   "metadata": {},
   "outputs": [],
   "source": [
    "# Creating StandardScaler instance\n",
    "scaler = StandardScaler()\n",
    "# Fitting Standard Scaller\n",
    "X_scaler = scaler.fit(X_train)\n",
    "# Scaling data\n",
    "X_train_scaled = X_scaler.transform(X_train)\n",
    "X_test_scaled = X_scaler.transform(X_test)"
   ]
  },
  {
   "cell_type": "markdown",
   "metadata": {
    "id": "bt-EYJCFB0v1"
   },
   "source": [
    "### 4. Define Deep Learning Model"
   ]
  },
  {
   "cell_type": "code",
   "execution_count": 19,
   "metadata": {
    "colab": {
     "base_uri": "https://localhost:8080/"
    },
    "executionInfo": {
     "elapsed": 661,
     "status": "ok",
     "timestamp": 1651006263365,
     "user": {
      "displayName": "Natalie Smeltz",
      "userId": "00128997758011837641"
     },
     "user_tz": 300
    },
    "id": "I16CE5DqP_N7",
    "outputId": "398eee9b-fe69-4e91-c929-d64795d146d2"
   },
   "outputs": [
    {
     "name": "stdout",
     "output_type": "stream",
     "text": [
      "Model: \"sequential\"\n",
      "_________________________________________________________________\n",
      " Layer (type)                Output Shape              Param #   \n",
      "=================================================================\n",
      " dense (Dense)               (None, 80)                3520      \n",
      "                                                                 \n",
      " dense_1 (Dense)             (None, 30)                2430      \n",
      "                                                                 \n",
      " dense_2 (Dense)             (None, 1)                 31        \n",
      "                                                                 \n",
      "=================================================================\n",
      "Total params: 5,981\n",
      "Trainable params: 5,981\n",
      "Non-trainable params: 0\n",
      "_________________________________________________________________\n"
     ]
    }
   ],
   "source": [
    "# Define the model - deep neural net, i.e., the number of input features and hidden nodes for each layer.\n",
    "number_input_features = len(X_train[0])\n",
    "hidden_nodes_layer1 = 80\n",
    "hidden_nodes_layer2 = 30\n",
    "\n",
    "nn = tf.keras.models.Sequential()\n",
    "\n",
    "# First hidden layer\n",
    "nn.add( tf.keras.layers.Dense(units=hidden_nodes_layer1, input_dim=number_input_features, activation=\"relu\") )\n",
    "\n",
    "# Second hidden layer\n",
    "nn.add( tf.keras.layers.Dense(units=hidden_nodes_layer2, activation=\"relu\") )\n",
    "\n",
    "# Output layer\n",
    "nn.add( tf.keras.layers.Dense(units=1, activation=\"sigmoid\") )\n",
    "\n",
    "# Check the structure of the model\n",
    "nn.summary()"
   ]
  },
  {
   "cell_type": "markdown",
   "metadata": {
    "id": "5E28mbEbCSC7"
   },
   "source": [
    "### 5. Compile & Train the Model"
   ]
  },
  {
   "cell_type": "code",
   "execution_count": 20,
   "metadata": {
    "executionInfo": {
     "elapsed": 6,
     "status": "ok",
     "timestamp": 1651006263365,
     "user": {
      "displayName": "Natalie Smeltz",
      "userId": "00128997758011837641"
     },
     "user_tz": 300
    },
    "id": "iO3zZKXlMEFg"
   },
   "outputs": [],
   "source": [
    "# Import checkpoint dependencies\n",
    "import os\n",
    "from tensorflow.keras.callbacks import ModelCheckpoint\n",
    "\n",
    "# Define the checkpoint path and filenames\n",
    "os.makedirs(\"checkpoints/\",exist_ok=True)\n",
    "checkpoint_path = \"checkpoints/weights.{epoch:02d}.hdf5\""
   ]
  },
  {
   "cell_type": "code",
   "execution_count": 21,
   "metadata": {
    "colab": {
     "base_uri": "https://localhost:8080/"
    },
    "executionInfo": {
     "elapsed": 5,
     "status": "ok",
     "timestamp": 1651006263365,
     "user": {
      "displayName": "Natalie Smeltz",
      "userId": "00128997758011837641"
     },
     "user_tz": 300
    },
    "id": "ofs817UGP_N7",
    "outputId": "0f9fae13-15fe-4073-aab1-b68ee2d198f3"
   },
   "outputs": [
    {
     "name": "stdout",
     "output_type": "stream",
     "text": [
      "WARNING:tensorflow:`period` argument is deprecated. Please use `save_freq` to specify the frequency in number of batches seen.\n"
     ]
    }
   ],
   "source": [
    "# Compile the model\n",
    "nn.compile(loss=\"binary_crossentropy\", optimizer=\"adam\", metrics=[\"accuracy\"])\n",
    "\n",
    "# Create a callback that saves the model's weights every epoch\n",
    "cp_callback = ModelCheckpoint(\n",
    "    filepath=checkpoint_path,\n",
    "    verbose=1,\n",
    "    save_weights_only=True,\n",
    "    period = 5)"
   ]
  },
  {
   "cell_type": "code",
   "execution_count": 22,
   "metadata": {
    "colab": {
     "base_uri": "https://localhost:8080/"
    },
    "executionInfo": {
     "elapsed": 180510,
     "status": "ok",
     "timestamp": 1651006443873,
     "user": {
      "displayName": "Natalie Smeltz",
      "userId": "00128997758011837641"
     },
     "user_tz": 300
    },
    "id": "F92QrW82P_N7",
    "outputId": "e4db31ff-ea3b-4e62-8e23-4b108c0ee991"
   },
   "outputs": [
    {
     "name": "stdout",
     "output_type": "stream",
     "text": [
      "Epoch 1/100\n",
      "804/804 [==============================] - 5s 4ms/step - loss: 0.5734 - accuracy: 0.7198\n",
      "Epoch 2/100\n",
      "804/804 [==============================] - 4s 5ms/step - loss: 0.5568 - accuracy: 0.7301\n",
      "Epoch 3/100\n",
      "804/804 [==============================] - 4s 5ms/step - loss: 0.5535 - accuracy: 0.7310\n",
      "Epoch 4/100\n",
      "804/804 [==============================] - 3s 4ms/step - loss: 0.5521 - accuracy: 0.7314\n",
      "Epoch 5/100\n",
      "796/804 [============================>.] - ETA: 0s - loss: 0.5506 - accuracy: 0.7328\n",
      "Epoch 5: saving model to checkpoints/weights.05.hdf5\n",
      "804/804 [==============================] - 4s 5ms/step - loss: 0.5505 - accuracy: 0.7327\n",
      "Epoch 6/100\n",
      "804/804 [==============================] - 2s 2ms/step - loss: 0.5489 - accuracy: 0.7337\n",
      "Epoch 7/100\n",
      "804/804 [==============================] - 2s 2ms/step - loss: 0.5482 - accuracy: 0.7331\n",
      "Epoch 8/100\n",
      "804/804 [==============================] - 2s 2ms/step - loss: 0.5464 - accuracy: 0.7357\n",
      "Epoch 9/100\n",
      "804/804 [==============================] - 2s 2ms/step - loss: 0.5464 - accuracy: 0.7355\n",
      "Epoch 10/100\n",
      "794/804 [============================>.] - ETA: 0s - loss: 0.5466 - accuracy: 0.7361\n",
      "Epoch 10: saving model to checkpoints/weights.10.hdf5\n",
      "804/804 [==============================] - 2s 2ms/step - loss: 0.5470 - accuracy: 0.7357\n",
      "Epoch 11/100\n",
      "804/804 [==============================] - 2s 2ms/step - loss: 0.5464 - accuracy: 0.7355\n",
      "Epoch 12/100\n",
      "804/804 [==============================] - 2s 2ms/step - loss: 0.5458 - accuracy: 0.7343\n",
      "Epoch 13/100\n",
      "804/804 [==============================] - 2s 2ms/step - loss: 0.5450 - accuracy: 0.7362\n",
      "Epoch 14/100\n",
      "804/804 [==============================] - 2s 2ms/step - loss: 0.5447 - accuracy: 0.7360\n",
      "Epoch 15/100\n",
      "791/804 [============================>.] - ETA: 0s - loss: 0.5441 - accuracy: 0.7355\n",
      "Epoch 15: saving model to checkpoints/weights.15.hdf5\n",
      "804/804 [==============================] - 2s 2ms/step - loss: 0.5440 - accuracy: 0.7355\n",
      "Epoch 16/100\n",
      "804/804 [==============================] - 2s 2ms/step - loss: 0.5440 - accuracy: 0.7360\n",
      "Epoch 17/100\n",
      "804/804 [==============================] - 2s 2ms/step - loss: 0.5439 - accuracy: 0.7374\n",
      "Epoch 18/100\n",
      "804/804 [==============================] - 2s 2ms/step - loss: 0.5435 - accuracy: 0.7361\n",
      "Epoch 19/100\n",
      "804/804 [==============================] - 2s 2ms/step - loss: 0.5432 - accuracy: 0.7378\n",
      "Epoch 20/100\n",
      "779/804 [============================>.] - ETA: 0s - loss: 0.5432 - accuracy: 0.7370\n",
      "Epoch 20: saving model to checkpoints/weights.20.hdf5\n",
      "804/804 [==============================] - 2s 2ms/step - loss: 0.5431 - accuracy: 0.7376\n",
      "Epoch 21/100\n",
      "804/804 [==============================] - 2s 2ms/step - loss: 0.5430 - accuracy: 0.7379\n",
      "Epoch 22/100\n",
      "804/804 [==============================] - 2s 2ms/step - loss: 0.5423 - accuracy: 0.7378\n",
      "Epoch 23/100\n",
      "804/804 [==============================] - 2s 2ms/step - loss: 0.5418 - accuracy: 0.7382\n",
      "Epoch 24/100\n",
      "804/804 [==============================] - 2s 2ms/step - loss: 0.5419 - accuracy: 0.7384\n",
      "Epoch 25/100\n",
      "795/804 [============================>.] - ETA: 0s - loss: 0.5414 - accuracy: 0.7381\n",
      "Epoch 25: saving model to checkpoints/weights.25.hdf5\n",
      "804/804 [==============================] - 2s 2ms/step - loss: 0.5417 - accuracy: 0.7380\n",
      "Epoch 26/100\n",
      "804/804 [==============================] - 2s 2ms/step - loss: 0.5415 - accuracy: 0.7387\n",
      "Epoch 27/100\n",
      "804/804 [==============================] - 2s 2ms/step - loss: 0.5413 - accuracy: 0.7387\n",
      "Epoch 28/100\n",
      "804/804 [==============================] - 2s 2ms/step - loss: 0.5412 - accuracy: 0.7374\n",
      "Epoch 29/100\n",
      "804/804 [==============================] - 2s 2ms/step - loss: 0.5407 - accuracy: 0.7391\n",
      "Epoch 30/100\n",
      "791/804 [============================>.] - ETA: 0s - loss: 0.5410 - accuracy: 0.7385\n",
      "Epoch 30: saving model to checkpoints/weights.30.hdf5\n",
      "804/804 [==============================] - 2s 2ms/step - loss: 0.5410 - accuracy: 0.7388\n",
      "Epoch 31/100\n",
      "804/804 [==============================] - 2s 2ms/step - loss: 0.5405 - accuracy: 0.7378\n",
      "Epoch 32/100\n",
      "804/804 [==============================] - 2s 2ms/step - loss: 0.5413 - accuracy: 0.7385\n",
      "Epoch 33/100\n",
      "804/804 [==============================] - 2s 2ms/step - loss: 0.5405 - accuracy: 0.7384\n",
      "Epoch 34/100\n",
      "804/804 [==============================] - 2s 2ms/step - loss: 0.5402 - accuracy: 0.7392\n",
      "Epoch 35/100\n",
      "800/804 [============================>.] - ETA: 0s - loss: 0.5399 - accuracy: 0.7400\n",
      "Epoch 35: saving model to checkpoints/weights.35.hdf5\n",
      "804/804 [==============================] - 2s 2ms/step - loss: 0.5404 - accuracy: 0.7397\n",
      "Epoch 36/100\n",
      "804/804 [==============================] - 2s 2ms/step - loss: 0.5398 - accuracy: 0.7393\n",
      "Epoch 37/100\n",
      "804/804 [==============================] - 2s 2ms/step - loss: 0.5399 - accuracy: 0.7390\n",
      "Epoch 38/100\n",
      "804/804 [==============================] - 2s 2ms/step - loss: 0.5396 - accuracy: 0.7396\n",
      "Epoch 39/100\n",
      "804/804 [==============================] - 2s 2ms/step - loss: 0.5397 - accuracy: 0.7391\n",
      "Epoch 40/100\n",
      "779/804 [============================>.] - ETA: 0s - loss: 0.5406 - accuracy: 0.7378\n",
      "Epoch 40: saving model to checkpoints/weights.40.hdf5\n",
      "804/804 [==============================] - 2s 2ms/step - loss: 0.5399 - accuracy: 0.7386\n",
      "Epoch 41/100\n",
      "804/804 [==============================] - 2s 2ms/step - loss: 0.5398 - accuracy: 0.7387\n",
      "Epoch 42/100\n",
      "804/804 [==============================] - 2s 2ms/step - loss: 0.5393 - accuracy: 0.7390\n",
      "Epoch 43/100\n",
      "804/804 [==============================] - 2s 2ms/step - loss: 0.5393 - accuracy: 0.7395\n",
      "Epoch 44/100\n",
      "804/804 [==============================] - 2s 2ms/step - loss: 0.5391 - accuracy: 0.7403\n",
      "Epoch 45/100\n",
      "799/804 [============================>.] - ETA: 0s - loss: 0.5391 - accuracy: 0.7396\n",
      "Epoch 45: saving model to checkpoints/weights.45.hdf5\n",
      "804/804 [==============================] - 2s 2ms/step - loss: 0.5393 - accuracy: 0.7394\n",
      "Epoch 46/100\n",
      "804/804 [==============================] - 2s 2ms/step - loss: 0.5390 - accuracy: 0.7395\n",
      "Epoch 47/100\n",
      "804/804 [==============================] - 2s 2ms/step - loss: 0.5387 - accuracy: 0.7394\n",
      "Epoch 48/100\n",
      "804/804 [==============================] - 2s 2ms/step - loss: 0.5388 - accuracy: 0.7401\n",
      "Epoch 49/100\n",
      "804/804 [==============================] - 2s 2ms/step - loss: 0.5385 - accuracy: 0.7396\n",
      "Epoch 50/100\n",
      "793/804 [============================>.] - ETA: 0s - loss: 0.5392 - accuracy: 0.7387\n",
      "Epoch 50: saving model to checkpoints/weights.50.hdf5\n",
      "804/804 [==============================] - 2s 2ms/step - loss: 0.5388 - accuracy: 0.7388\n",
      "Epoch 51/100\n",
      "804/804 [==============================] - 2s 2ms/step - loss: 0.5388 - accuracy: 0.7397\n",
      "Epoch 52/100\n",
      "804/804 [==============================] - 2s 2ms/step - loss: 0.5386 - accuracy: 0.7390\n",
      "Epoch 53/100\n",
      "804/804 [==============================] - 2s 2ms/step - loss: 0.5383 - accuracy: 0.7391\n",
      "Epoch 54/100\n",
      "804/804 [==============================] - 2s 2ms/step - loss: 0.5384 - accuracy: 0.7397\n",
      "Epoch 55/100\n",
      "794/804 [============================>.] - ETA: 0s - loss: 0.5377 - accuracy: 0.7394\n",
      "Epoch 55: saving model to checkpoints/weights.55.hdf5\n",
      "804/804 [==============================] - 2s 2ms/step - loss: 0.5382 - accuracy: 0.7389\n",
      "Epoch 56/100\n",
      "804/804 [==============================] - 2s 2ms/step - loss: 0.5384 - accuracy: 0.7397\n",
      "Epoch 57/100\n",
      "804/804 [==============================] - 2s 2ms/step - loss: 0.5381 - accuracy: 0.7402\n",
      "Epoch 58/100\n",
      "804/804 [==============================] - 2s 2ms/step - loss: 0.5379 - accuracy: 0.7397\n",
      "Epoch 59/100\n",
      "804/804 [==============================] - 2s 2ms/step - loss: 0.5381 - accuracy: 0.7396\n",
      "Epoch 60/100\n",
      "786/804 [============================>.] - ETA: 0s - loss: 0.5365 - accuracy: 0.7417\n",
      "Epoch 60: saving model to checkpoints/weights.60.hdf5\n",
      "804/804 [==============================] - 2s 2ms/step - loss: 0.5376 - accuracy: 0.7408\n",
      "Epoch 61/100\n",
      "804/804 [==============================] - 2s 2ms/step - loss: 0.5379 - accuracy: 0.7396\n",
      "Epoch 62/100\n",
      "804/804 [==============================] - 2s 2ms/step - loss: 0.5378 - accuracy: 0.7397\n",
      "Epoch 63/100\n",
      "804/804 [==============================] - 2s 2ms/step - loss: 0.5377 - accuracy: 0.7403\n",
      "Epoch 64/100\n",
      "804/804 [==============================] - 2s 2ms/step - loss: 0.5376 - accuracy: 0.7400\n",
      "Epoch 65/100\n",
      "790/804 [============================>.] - ETA: 0s - loss: 0.5378 - accuracy: 0.7396\n",
      "Epoch 65: saving model to checkpoints/weights.65.hdf5\n",
      "804/804 [==============================] - 2s 2ms/step - loss: 0.5377 - accuracy: 0.7395\n",
      "Epoch 66/100\n",
      "804/804 [==============================] - 2s 2ms/step - loss: 0.5371 - accuracy: 0.7403\n",
      "Epoch 67/100\n",
      "804/804 [==============================] - 2s 2ms/step - loss: 0.5373 - accuracy: 0.7400\n",
      "Epoch 68/100\n",
      "804/804 [==============================] - 2s 2ms/step - loss: 0.5375 - accuracy: 0.7400\n",
      "Epoch 69/100\n",
      "804/804 [==============================] - 2s 3ms/step - loss: 0.5374 - accuracy: 0.7406\n",
      "Epoch 70/100\n",
      "795/804 [============================>.] - ETA: 0s - loss: 0.5370 - accuracy: 0.7414\n",
      "Epoch 70: saving model to checkpoints/weights.70.hdf5\n",
      "804/804 [==============================] - 2s 2ms/step - loss: 0.5371 - accuracy: 0.7414\n",
      "Epoch 71/100\n",
      "804/804 [==============================] - 2s 2ms/step - loss: 0.5372 - accuracy: 0.7405\n",
      "Epoch 72/100\n",
      "804/804 [==============================] - 2s 2ms/step - loss: 0.5370 - accuracy: 0.7405\n",
      "Epoch 73/100\n",
      "804/804 [==============================] - 2s 2ms/step - loss: 0.5372 - accuracy: 0.7404\n",
      "Epoch 74/100\n",
      "804/804 [==============================] - 2s 2ms/step - loss: 0.5369 - accuracy: 0.7402\n",
      "Epoch 75/100\n",
      "784/804 [============================>.] - ETA: 0s - loss: 0.5377 - accuracy: 0.7392\n",
      "Epoch 75: saving model to checkpoints/weights.75.hdf5\n",
      "804/804 [==============================] - 2s 2ms/step - loss: 0.5372 - accuracy: 0.7396\n",
      "Epoch 76/100\n",
      "804/804 [==============================] - 2s 2ms/step - loss: 0.5369 - accuracy: 0.7405\n",
      "Epoch 77/100\n",
      "804/804 [==============================] - 2s 2ms/step - loss: 0.5366 - accuracy: 0.7402\n",
      "Epoch 78/100\n",
      "804/804 [==============================] - 2s 2ms/step - loss: 0.5367 - accuracy: 0.7402\n",
      "Epoch 79/100\n",
      "804/804 [==============================] - 2s 2ms/step - loss: 0.5366 - accuracy: 0.7411\n",
      "Epoch 80/100\n",
      "782/804 [============================>.] - ETA: 0s - loss: 0.5372 - accuracy: 0.7407\n",
      "Epoch 80: saving model to checkpoints/weights.80.hdf5\n",
      "804/804 [==============================] - 2s 2ms/step - loss: 0.5369 - accuracy: 0.7411\n",
      "Epoch 81/100\n",
      "804/804 [==============================] - 2s 2ms/step - loss: 0.5366 - accuracy: 0.7403\n",
      "Epoch 82/100\n",
      "804/804 [==============================] - 2s 2ms/step - loss: 0.5368 - accuracy: 0.7397\n",
      "Epoch 83/100\n",
      "804/804 [==============================] - 2s 2ms/step - loss: 0.5366 - accuracy: 0.7403\n",
      "Epoch 84/100\n",
      "804/804 [==============================] - 2s 2ms/step - loss: 0.5363 - accuracy: 0.7405\n",
      "Epoch 85/100\n",
      "781/804 [============================>.] - ETA: 0s - loss: 0.5357 - accuracy: 0.7401\n",
      "Epoch 85: saving model to checkpoints/weights.85.hdf5\n",
      "804/804 [==============================] - 2s 2ms/step - loss: 0.5361 - accuracy: 0.7400\n",
      "Epoch 86/100\n",
      "804/804 [==============================] - 2s 2ms/step - loss: 0.5361 - accuracy: 0.7404\n",
      "Epoch 87/100\n",
      "804/804 [==============================] - 2s 2ms/step - loss: 0.5363 - accuracy: 0.7407\n",
      "Epoch 88/100\n",
      "804/804 [==============================] - 2s 2ms/step - loss: 0.5362 - accuracy: 0.7404\n",
      "Epoch 89/100\n",
      "804/804 [==============================] - 2s 2ms/step - loss: 0.5360 - accuracy: 0.7407\n",
      "Epoch 90/100\n",
      "783/804 [============================>.] - ETA: 0s - loss: 0.5352 - accuracy: 0.7416\n",
      "Epoch 90: saving model to checkpoints/weights.90.hdf5\n",
      "804/804 [==============================] - 2s 2ms/step - loss: 0.5364 - accuracy: 0.7404\n",
      "Epoch 91/100\n",
      "804/804 [==============================] - 2s 2ms/step - loss: 0.5359 - accuracy: 0.7411\n",
      "Epoch 92/100\n",
      "804/804 [==============================] - 2s 2ms/step - loss: 0.5359 - accuracy: 0.7403\n",
      "Epoch 93/100\n",
      "804/804 [==============================] - 2s 2ms/step - loss: 0.5356 - accuracy: 0.7414\n",
      "Epoch 94/100\n",
      "804/804 [==============================] - 2s 2ms/step - loss: 0.5360 - accuracy: 0.7415\n",
      "Epoch 95/100\n",
      "792/804 [============================>.] - ETA: 0s - loss: 0.5355 - accuracy: 0.7412\n",
      "Epoch 95: saving model to checkpoints/weights.95.hdf5\n",
      "804/804 [==============================] - 2s 2ms/step - loss: 0.5356 - accuracy: 0.7410\n",
      "Epoch 96/100\n",
      "804/804 [==============================] - 2s 2ms/step - loss: 0.5358 - accuracy: 0.7411\n",
      "Epoch 97/100\n",
      "804/804 [==============================] - 2s 2ms/step - loss: 0.5359 - accuracy: 0.7403\n",
      "Epoch 98/100\n",
      "804/804 [==============================] - 2s 2ms/step - loss: 0.5358 - accuracy: 0.7403\n",
      "Epoch 99/100\n",
      "804/804 [==============================] - 2s 2ms/step - loss: 0.5357 - accuracy: 0.7405\n",
      "Epoch 100/100\n",
      "788/804 [============================>.] - ETA: 0s - loss: 0.5363 - accuracy: 0.7404\n",
      "Epoch 100: saving model to checkpoints/weights.100.hdf5\n",
      "804/804 [==============================] - 2s 2ms/step - loss: 0.5357 - accuracy: 0.7409\n"
     ]
    }
   ],
   "source": [
    "# Train the model\n",
    "fit_model = nn.fit(X_train_scaled,y_train,epochs=100,callbacks=[cp_callback])"
   ]
  },
  {
   "cell_type": "markdown",
   "metadata": {
    "id": "tRmATN16wFh9"
   },
   "source": [
    "### 6. Evaluate the Model"
   ]
  },
  {
   "cell_type": "code",
   "execution_count": 23,
   "metadata": {
    "colab": {
     "base_uri": "https://localhost:8080/"
    },
    "executionInfo": {
     "elapsed": 940,
     "status": "ok",
     "timestamp": 1651006444811,
     "user": {
      "displayName": "Natalie Smeltz",
      "userId": "00128997758011837641"
     },
     "user_tz": 300
    },
    "id": "-kDhF6WiP_N7",
    "outputId": "852f0313-90e2-4849-bb09-bc84acb8add0"
   },
   "outputs": [
    {
     "name": "stdout",
     "output_type": "stream",
     "text": [
      "268/268 - 0s - loss: 0.5563 - accuracy: 0.7263 - 485ms/epoch - 2ms/step\n",
      "Loss: 0.5563113689422607, Accuracy: 0.7262973785400391\n"
     ]
    }
   ],
   "source": [
    "# Evaluate the model using the test data\n",
    "model_loss, model_accuracy = nn.evaluate(X_test_scaled,y_test,verbose=2)\n",
    "print(f\"Loss: {model_loss}, Accuracy: {model_accuracy}\")"
   ]
  },
  {
   "cell_type": "markdown",
   "metadata": {
    "id": "41Wd-G_jzByU"
   },
   "source": [
    "### 4. Save the Model"
   ]
  },
  {
   "cell_type": "code",
   "execution_count": 24,
   "metadata": {
    "executionInfo": {
     "elapsed": 2,
     "status": "ok",
     "timestamp": 1651006444811,
     "user": {
      "displayName": "Natalie Smeltz",
      "userId": "00128997758011837641"
     },
     "user_tz": 300
    },
    "id": "k-x_AfVUzBRC"
   },
   "outputs": [],
   "source": [
    "#nn.save(\"AlphabetSoupCharity.h5\")"
   ]
  }
 ],
 "metadata": {
  "colab": {
   "collapsed_sections": [],
   "name": "AlphabetSoupCharity.ipynb",
   "provenance": []
  },
  "kernelspec": {
   "display_name": "PythonData",
   "language": "python",
   "name": "pythondata"
  },
  "language_info": {
   "codemirror_mode": {
    "name": "ipython",
    "version": 3
   },
   "file_extension": ".py",
   "mimetype": "text/x-python",
   "name": "python",
   "nbconvert_exporter": "python",
   "pygments_lexer": "ipython3",
   "version": "3.9.7"
  }
 },
 "nbformat": 4,
 "nbformat_minor": 1
}
